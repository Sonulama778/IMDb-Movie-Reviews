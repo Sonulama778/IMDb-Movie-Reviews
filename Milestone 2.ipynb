{
 "cells": [
  {
   "cell_type": "code",
   "execution_count": 1,
   "id": "1ea7d3ac",
   "metadata": {},
   "outputs": [
    {
     "data": {
      "text/plain": [
       "'\\nMilestone 2: Data Cleaning and Preprocessing\\n\\nTasks:\\n1. Data Cleaning Script (20 marks)\\n2. Data Preprocessing Script (20 marks)\\n3. Generate Cleaned Data Sample (10 marks)\\n'"
      ]
     },
     "execution_count": 1,
     "metadata": {},
     "output_type": "execute_result"
    }
   ],
   "source": [
    "\"\"\"\n",
    "Milestone 2: Data Cleaning and Preprocessing\n",
    "\n",
    "Tasks:\n",
    "1. Data Cleaning Script (20 marks)\n",
    "2. Data Preprocessing Script (20 marks)\n",
    "3. Generate Cleaned Data Sample (10 marks)\n",
    "\"\"\"\n"
   ]
  },
  {
   "cell_type": "code",
   "execution_count": 5,
   "id": "43319710",
   "metadata": {},
   "outputs": [
    {
     "name": "stdout",
     "output_type": "stream",
     "text": [
      "                      Title                                    URL  \\\n",
      "0  The Shawshank Redemption  https://www.imdb.com/title/tt0111161/   \n",
      "1             The Godfather  https://www.imdb.com/title/tt0068646/   \n",
      "2           The Dark Knight  https://www.imdb.com/title/tt0468569/   \n",
      "3     The Godfather Part II  https://www.imdb.com/title/tt0071562/   \n",
      "4              12 Angry Men  https://www.imdb.com/title/tt0050083/   \n",
      "\n",
      "                                         Description  Best Rating  \\\n",
      "0  A banker convicted of uxoricide forms a friend...           10   \n",
      "1  The aging patriarch of an organized crime dyna...           10   \n",
      "2  When a menace known as the Joker wreaks havoc ...           10   \n",
      "3  The early life and career of Vito Corleone in ...           10   \n",
      "4  The jury in a New York City murder trial is fr...           10   \n",
      "\n",
      "   Worst Rating  Rating                 Genre Duration  \n",
      "0             1     9.3                 Drama  PT2H22M  \n",
      "1             1     9.2          Crime, Drama  PT2H55M  \n",
      "2             1     9.0  Action, Crime, Drama  PT2H32M  \n",
      "3             1     9.0          Crime, Drama  PT3H22M  \n",
      "4             1     9.0          Crime, Drama  PT1H36M  \n"
     ]
    }
   ],
   "source": [
    "import pandas as pd\n",
    "import re\n",
    "from sklearn.preprocessing import MinMaxScaler\n",
    "\n",
    "# Read a CSV file\n",
    "df = pd.read_csv('topIMDBmovies.csv')\n",
    "\n",
    "# Display the first 5 rows\n",
    "print(df.head())\n"
   ]
  },
  {
   "cell_type": "code",
   "execution_count": 9,
   "id": "4f8b7591",
   "metadata": {},
   "outputs": [
    {
     "name": "stdout",
     "output_type": "stream",
     "text": [
      "['Title', 'URL', 'Description', 'Best Rating', 'Worst Rating', 'Rating', 'Duration', 'RatingNormalized', 'Action', 'Adventure', 'Animation', 'Biography', 'Comedy', 'Crime', 'Drama', 'Family', 'Fantasy', 'Film-Noir', 'History', 'Horror', 'Music', 'Musical', 'Mystery', 'Romance', 'Sci-Fi', 'Sport', 'Thriller', 'War', 'Western']\n"
     ]
    }
   ],
   "source": [
    "print(df.columns.tolist())\n"
   ]
  },
  {
   "cell_type": "code",
   "execution_count": 11,
   "id": "eaebb024",
   "metadata": {},
   "outputs": [],
   "source": [
    "# Strip whitespace from column names to avoid key errors\n",
    "df.columns = df.columns.str.strip()\n",
    "# Task 1: Data Cleaning Script\n",
    "# Remove duplicate rows\n",
    "df = df.drop_duplicates()\n",
    "# Drop rows with missing critical values ('Rating' and 'DurationMinutes')\n",
    "df = df.dropna(subset=['Rating', 'Duration'])\n",
    "# Drop any completely empty rows just in case\n",
    "df = df.dropna(how='all')\n"
   ]
  },
  {
   "cell_type": "code",
   "execution_count": 12,
   "id": "d1b70e57",
   "metadata": {},
   "outputs": [],
   "source": [
    "#Task 2 Data Preprocessing\n",
    "# (Re-)Normalize the 'Rating' column from 0–1\n",
    "scaler = MinMaxScaler()\n",
    "df['RatingNormalized'] = scaler.fit_transform(df[['Rating']])\n",
    "\n",
    "# Verify and create one-hot encoding for 'Genre' if not already split\n",
    "# Only if 'Genre' column exists (not yet split)\n",
    "if 'Genre' in df.columns:\n",
    "    genre_dummies = df['Genre'].str.get_dummies(sep=\", \")\n",
    "    df = pd.concat([df, genre_dummies], axis=1)\n",
    "    df = df.drop(columns=['Genre'])\n",
    "\n",
    "# Ensure Duration is numeric\n",
    "df['DurationMinutes'] = pd.to_numeric(df['Duration'], errors='coerce')"
   ]
  },
  {
   "cell_type": "code",
   "execution_count": 13,
   "id": "5b46364e",
   "metadata": {},
   "outputs": [
    {
     "name": "stdout",
     "output_type": "stream",
     "text": [
      "✅ Tasks completed successfully.\n",
      "📄 Sample saved as 'cleaned_topIMDB_db.csv'\n"
     ]
    }
   ],
   "source": [
    "# Task 3: Save a sample of the cleaned dataset\n",
    "df.head(10).to_csv(\"cleaned_topIMDB_db.csv\", index=False)\n",
    "\n",
    "print(\"✅ Tasks completed successfully.\")\n",
    "print(\"📄 Sample saved as 'cleaned_topIMDB_db.csv'\")\n"
   ]
  },
  {
   "cell_type": "code",
   "execution_count": null,
   "id": "948474a4",
   "metadata": {},
   "outputs": [],
   "source": []
  }
 ],
 "metadata": {
  "kernelspec": {
   "display_name": "Python 3 (ipykernel)",
   "language": "python",
   "name": "python3"
  },
  "language_info": {
   "codemirror_mode": {
    "name": "ipython",
    "version": 3
   },
   "file_extension": ".py",
   "mimetype": "text/x-python",
   "name": "python",
   "nbconvert_exporter": "python",
   "pygments_lexer": "ipython3",
   "version": "3.10.9"
  }
 },
 "nbformat": 4,
 "nbformat_minor": 5
}
